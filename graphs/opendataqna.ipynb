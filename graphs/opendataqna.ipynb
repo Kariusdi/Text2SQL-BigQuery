{
 "cells": [
  {
   "cell_type": "markdown",
   "id": "f3472b0c",
   "metadata": {},
   "source": [
    "## **Text2sql in BigQuery**\n",
    "#### based on Google's Open Data Qna architecture \n",
    "\n",
    "> This notebook is a LangGraph version that can be adapted to use in production\n",
    "\n",
    "![architecture](../OpenDataQnA_architecture.png)"
   ]
  },
  {
   "cell_type": "markdown",
   "id": "12f3bf8e",
   "metadata": {},
   "source": [
    "-------------"
   ]
  },
  {
   "cell_type": "code",
   "execution_count": 248,
   "id": "69dbd759",
   "metadata": {},
   "outputs": [],
   "source": [
    "import sys, os\n",
    "sys.path.append(os.path.abspath(\"..\"))\n",
    "import time\n",
    "from dotenv import load_dotenv\n",
    "load_dotenv()\n",
    "from config.gcp import initialize_gcs_client\n",
    "initialize_gcs_client()\n",
    "from utils.const import MODEL_CONFIG, MAXIMUM_DEBUG"
   ]
  },
  {
   "cell_type": "markdown",
   "id": "1ab9d3c9",
   "metadata": {},
   "source": [
    "### Initialize Graph State"
   ]
  },
  {
   "cell_type": "code",
   "execution_count": 249,
   "id": "e7122bfa",
   "metadata": {},
   "outputs": [],
   "source": [
    "from typing import TypedDict\n",
    "from pandas import DataFrame"
   ]
  },
  {
   "cell_type": "code",
   "execution_count": 250,
   "id": "da4cfaeb",
   "metadata": {},
   "outputs": [],
   "source": [
    "class AgentState(TypedDict):\n",
    "    original_question: str\n",
    "    rewrite_question: str\n",
    "    error_message: str\n",
    "    debugging_count: int\n",
    "    query: str\n",
    "    related_columns: list\n",
    "    related_query: list\n",
    "    result_response: str\n",
    "    result_df: DataFrame | str\n",
    "    formatted_history: list\n",
    "    chart_suggestions: dict[str, str]\n",
    "    chart_js_codes: list\n",
    "    chart_couter: int\n",
    "    text2sql_time: float\n",
    "    visualization_time: float"
   ]
  },
  {
   "cell_type": "markdown",
   "id": "bfd8a06f",
   "metadata": {},
   "source": [
    "--------"
   ]
  },
  {
   "cell_type": "markdown",
   "id": "ece80eb7",
   "metadata": {},
   "source": [
    "### **Nodes**"
   ]
  },
  {
   "cell_type": "code",
   "execution_count": 251,
   "id": "310d8f15",
   "metadata": {},
   "outputs": [],
   "source": [
    "def setup(state: AgentState) -> AgentState:\n",
    "    \"\"\"A node for setting up the variables\"\"\"\n",
    "    state[\"chart_js_codes\"] = []\n",
    "    state[\"chart_couter\"] = 0\n",
    "    \n",
    "    return state"
   ]
  },
  {
   "cell_type": "markdown",
   "id": "28b5dc07",
   "metadata": {},
   "source": [
    "#### <mark>**1. Rewrite question Agent**</mark>\n",
    "\n",
    "This node is an agent that rewrites and refines the question based on the previous questions that has been asked to produce a question that is based on a history."
   ]
  },
  {
   "cell_type": "code",
   "execution_count": 252,
   "id": "9d9e9fa3",
   "metadata": {},
   "outputs": [],
   "source": [
    "from src.llm import init_agent_model\n",
    "from pydantic import BaseModel, Field"
   ]
  },
  {
   "cell_type": "code",
   "execution_count": 253,
   "id": "3d653b12",
   "metadata": {},
   "outputs": [],
   "source": [
    "# Output Parser Schema\n",
    "class RewriteQuestionParser(BaseModel):\n",
    "    rewrite_question: str = Field(description=\"The rewrite question\")"
   ]
  },
  {
   "cell_type": "code",
   "execution_count": 254,
   "id": "2dc30227",
   "metadata": {},
   "outputs": [],
   "source": [
    "SYSTEM_PROMPT1: str = \"\"\"\n",
    "Your main objective is to rewrite and refine the question based on the previous questions that has been asked.\n",
    "\n",
    "Refine the given question using the provided questions history to produce a standalone question with full context. The refined question should be self-contained, requiring no additional context for answering it.\n",
    "\n",
    "Make sure all the information is included in the re-written question. You just need to respond with the re-written question.\n",
    "\n",
    "Below is the previous questions history:\n",
    "\n",
    "{formatted_history}\n",
    "\n",
    "Your output should be in this format. \n",
    "{format_instructions}\n",
    "\"\"\"\n",
    "\n",
    "HUMAN_PROMPT1: str = \"\"\"\n",
    "Question to rewrite:\n",
    "{question}\n",
    "\"\"\"\n",
    "\n",
    "PROMPT_TEMPLATE1: list[tuple] = [\n",
    "    ('system', SYSTEM_PROMPT1),\n",
    "    ('human', HUMAN_PROMPT1)\n",
    "]"
   ]
  },
  {
   "cell_type": "code",
   "execution_count": null,
   "id": "51ff3164",
   "metadata": {},
   "outputs": [],
   "source": [
    "def rewrite_question_agent_node(state: AgentState) -> AgentState:\n",
    "    \"\"\"Rewrite question by an agent\"\"\"\n",
    "    state[\"text2sql_time\"] = time.time()\n",
    "    print(\"\\033[92m--- Rewrite question ---\\033[00m\")\n",
    "    \n",
    "    chain = init_agent_model(prompt=PROMPT_TEMPLATE1, model_config=MODEL_CONFIG, parser=RewriteQuestionParser)\n",
    "    \n",
    "    response = chain.invoke({\n",
    "        \"formatted_history\": state.get(\"formatted_history\", []), # If there is no \"formatted_history\" then use an empty string\n",
    "        \"question\": state[\"original_question\"]\n",
    "    })\n",
    "    \n",
    "    # Set rewrite_question state to be the response from an agent\n",
    "    state[\"rewrite_question\"] = response[\"rewrite_question\"]\n",
    "    return state\n",
    "    \n",
    "# if __name__ == '__main__' :"
   ]
  },
  {
   "cell_type": "markdown",
   "id": "7b3de4af",
   "metadata": {},
   "source": [
    "#### <mark>**2. Search Database Column**</mark>\n",
    "\n",
    "This node is for searching database column to be a context for llm to produce a sql"
   ]
  },
  {
   "cell_type": "code",
   "execution_count": 256,
   "id": "4f423aeb",
   "metadata": {},
   "outputs": [],
   "source": [
    "from src.vector import similar_search"
   ]
  },
  {
   "cell_type": "code",
   "execution_count": null,
   "id": "a81f0332",
   "metadata": {},
   "outputs": [],
   "source": [
    "def search_column_description_node(state: AgentState) -> AgentState:\n",
    "    \"\"\"Search column description\"\"\"\n",
    "    print(\"\\033[92m--- Search column description ---\\033[00m\")\n",
    "    similar_search_result = similar_search(vectore_db=\"mro_db_column_description\", search_input=state[\"rewrite_question\"])\n",
    "    \n",
    "    # Set related_columns state to be the result from the column description vector result\n",
    "    return {\n",
    "        \"related_columns\": similar_search_result\n",
    "    }\n",
    "    \n",
    "# if __name__ == '__main__' :\n",
    "#     print(search_column_description_node({'rewrite_question' : 'Who are you'}))"
   ]
  },
  {
   "cell_type": "markdown",
   "id": "06792f14",
   "metadata": {},
   "source": [
    "#### <mark>**3. Related Query**</mark>\n",
    "\n",
    "This node is for providing an example of sql query using in write sql and fix sql."
   ]
  },
  {
   "cell_type": "code",
   "execution_count": null,
   "id": "b11e9dbc",
   "metadata": {},
   "outputs": [],
   "source": [
    "\n",
    "def search_query_node(state: AgentState) -> AgentState:\n",
    "    print(\"\\033[92m--- Search query ---\\033[00m\")\n",
    "    return {\n",
    "        \"related_query\" : [\n",
    "        \"\"\"\n",
    "        question : Can I get the latest report files in July? \n",
    "        query : SELECT Files FROM `cbm-cgs-uiim-prd.mro_demo.mrodata` WHERE PARSE_DATE('%d-%b-%y', Datess) BETWEEN '2025-07-01' AND '2025-07-31' ORDER BY PARSE_DATE('%d-%b-%y', Datess) DESC LIMIT 3\"\"\"\n",
    "        ]}"
   ]
  },
  {
   "cell_type": "markdown",
   "id": "0ed67596",
   "metadata": {},
   "source": [
    "#### <mark>**4. Write SQL agent**</mark>\n",
    "\n",
    "This node is an agent that writes SQL based on user question."
   ]
  },
  {
   "cell_type": "code",
   "execution_count": 259,
   "id": "512ff092",
   "metadata": {},
   "outputs": [],
   "source": [
    "class WriteSQLParser(BaseModel):\n",
    "    query: str = Field(description=\"Generated query (The answer of the SQL query)\")"
   ]
  },
  {
   "cell_type": "code",
   "execution_count": 260,
   "id": "1e4eb3f9",
   "metadata": {},
   "outputs": [],
   "source": [
    "SYSTEM_PROMPT2: str = \"\"\"\n",
    "You are an Bigquery SQL guru. Your task is to write a Bigquery SQL query that answers the following question while using the provided context.\n",
    "\n",
    "<Guidelines>\n",
    "- Join as minimal tables as possible.\n",
    "- When joining tables ensure all join columns are the same data_type.\n",
    "- Analyze the database and the table schema provided as parameters and undestand the relations (column and table relations).\n",
    "- Use always SAFE_CAST. If performing a SAFE_CAST, use only Bigquery supported datatypes. (i.e specific_data_types)\n",
    "- Always SAFE_CAST and then use aggregate functions\n",
    "- Don't include any comments in code.\n",
    "- Remove ```sql and ``` from the output and generate the SQL in single line.\n",
    "- Tables should be refered to using a fully qualified name with enclosed in ticks (`) e.g. `project_id.owner.table_name`.\n",
    "- Use all the non-aggregated columns from the \"SELECT\" statement while framing \"GROUP BY\" block.\n",
    "- Return syntactically and symantically correct SQL for BigQuery with proper relation mapping i.e project_id, owner, table and column relation.\n",
    "- Use ONLY the column names (column_name) mentioned in Table Schema. DO NOT USE any other column names outside of this.\n",
    "- Associate column_name mentioned in Table Schema only to the table_name specified under Table Schema.\n",
    "- Use SQL 'AS' statement to assign a new name temporarily to a table column or even a table wherever needed.\n",
    "- Table names are case sensitive. DO NOT uppercase or lowercase the table names.\n",
    "- Always enclose subqueries and union queries in brackets.\n",
    "- Refer to the examples provided below, if given. \n",
    "- When given question is out of context of from this session respond always with dummy SQL statement - not_related_msg\n",
    "- You always generate SELECT queries ONLY. If asked for other statements for DELETE or MERGE etc respond with dummy SQL statement - not_related_msg\n",
    "</Guidelines>\n",
    "\n",
    "Your output should be in this format. \n",
    "{format_instructions}\n",
    "\"\"\"\n",
    "\n",
    "HUMAN_PROMPT2: str = \"\"\"\n",
    "<User's question>\n",
    "{rewrite_question}\n",
    "</User's question>\n",
    "\n",
    "<Examples>\n",
    "{related_query}\n",
    "</Examples>\n",
    "\n",
    "<Table Schema>\n",
    "table : `cbm-cgs-uiim-prd.mro_demo.mrodata`\n",
    "</Table Schema>\n",
    "\n",
    "<Columns Schema>\n",
    "{related_columns}\n",
    "</Columns Schema>\n",
    "\"\"\"\n",
    "\n",
    "PROMPT_TEMPLATE2: list[tuple]= [\n",
    "    ('system', SYSTEM_PROMPT2),\n",
    "    ('human', HUMAN_PROMPT2)\n",
    "]"
   ]
  },
  {
   "cell_type": "code",
   "execution_count": null,
   "id": "d51387de",
   "metadata": {},
   "outputs": [],
   "source": [
    "def write_sql_agent_node(state: AgentState) -> AgentState:\n",
    "    \"\"\"Write SQL by an agent\"\"\"\n",
    "    print(\"\\033[92m--- Write SQL ---\\033[00m\")\n",
    "    \n",
    "    chain = init_agent_model(prompt=PROMPT_TEMPLATE2, model_config=MODEL_CONFIG, parser=WriteSQLParser)\n",
    "    \n",
    "    response = chain.invoke({\n",
    "        \"rewrite_question\": state[\"rewrite_question\"], # If there is no \"formatted_history\" then use an empty string\n",
    "        \"related_query\": state[\"related_query\"],\n",
    "        \"related_columns\": state[\"related_columns\"]\n",
    "    })\n",
    "    \n",
    "    print(response[\"query\"])\n",
    "    \n",
    "    # Set query (sql query) state to be the response from an agent\n",
    "    return {\n",
    "        \"query\": response[\"query\"]\n",
    "    }"
   ]
  },
  {
   "cell_type": "markdown",
   "id": "62634040",
   "metadata": {},
   "source": [
    "#### <mark>**5. Check SQL syntax node**</mark>\n",
    "\n",
    "This node checks SQL syntax from the \"write sql agent node\" and also has to set the error message state."
   ]
  },
  {
   "cell_type": "code",
   "execution_count": 262,
   "id": "96d0d02c",
   "metadata": {},
   "outputs": [],
   "source": [
    "from src.bq import GcpBigQuery"
   ]
  },
  {
   "cell_type": "code",
   "execution_count": 263,
   "id": "aad2c6c9",
   "metadata": {},
   "outputs": [],
   "source": [
    "# Big Query Environments -------\n",
    "project_id: str = os.getenv(\"PROJECT_ID\")\n",
    "location: str = os.getenv(\"LOCATION\")\n",
    "dataset_id: str = os.getenv(\"DATASET_ID\")\n",
    "table_name: str = \"mrodata\"\n",
    "# ------------------------------\n",
    "\n",
    "# Initiate database connection -\n",
    "big_query = GcpBigQuery(\n",
    "    project_id=project_id,\n",
    "    location=location,\n",
    "    dataset_id=dataset_id\n",
    ")"
   ]
  },
  {
   "cell_type": "code",
   "execution_count": null,
   "id": "7996ee06",
   "metadata": {},
   "outputs": [],
   "source": [
    "\n",
    "def check_sql_node(state: AgentState) -> AgentState:\n",
    "    \"\"\"Check SQL by execute it\"\"\"\n",
    "    print(\"\\033[92m--- Check SQL ---\\033[00m\")\n",
    "    error_message: str | None\n",
    "    debugging_count: int\n",
    "    \n",
    "    try:\n",
    "        _ = big_query.execute_query(state[\"query\"])\n",
    "        error_message = None\n",
    "        debugging_count = state.get('debugging_count', 0)\n",
    "    except Exception as e:\n",
    "        error_message = str(e)\n",
    "        debugging_count = state.get('debugging_count', 0) + 1\n",
    "        \n",
    "    # Set error_message and debugging_count states for checking edge\n",
    "    return {\n",
    "        \"error_message\" : error_message,\n",
    "        \"debugging_count\" : debugging_count\n",
    "    }"
   ]
  },
  {
   "cell_type": "markdown",
   "id": "73e5e555",
   "metadata": {},
   "source": [
    "#### <mark>**6. Run SQL syntax node**</mark>\n",
    "\n",
    "This node runs SQL syntax that there's no error."
   ]
  },
  {
   "cell_type": "code",
   "execution_count": null,
   "id": "584947e0",
   "metadata": {},
   "outputs": [],
   "source": [
    "def run_sql_node(state: AgentState) -> AgentState:\n",
    "    \"\"\"Run SQL\"\"\"\n",
    "    print(\"\\033[92m--- Run SQL ---\\033[00m\")\n",
    "    result = big_query.execute_query(state[\"query\"])\n",
    "    \n",
    "    # Set result_df state\n",
    "    return {\n",
    "        \"result_df\": result\n",
    "    }"
   ]
  },
  {
   "cell_type": "markdown",
   "id": "4a3197b1",
   "metadata": {},
   "source": [
    "#### <mark>**7. Fix SQL syntax agent node**</mark>\n",
    "\n",
    "This node is an agent that fixs invalid SQL from write_sql_agent_node"
   ]
  },
  {
   "cell_type": "code",
   "execution_count": 266,
   "id": "3d287108",
   "metadata": {},
   "outputs": [],
   "source": [
    "class FixSQLParser(BaseModel):\n",
    "    query: str = Field(description=\"Fixed query\")"
   ]
  },
  {
   "cell_type": "code",
   "execution_count": 267,
   "id": "4a8f37ed",
   "metadata": {},
   "outputs": [],
   "source": [
    "SYSTEM_PROMPT3: str = \"\"\"\n",
    "You are an BigQuery SQL guru. Your task is to troubleshoot a BigQuery SQL query. As the user provides versions of the query and the errors returned by BigQuery,\n",
    "return a new alternative SQL query that fixes the errors. It is important that the query still answers the original question.\n",
    "\n",
    "<Guidelines>\n",
    "- Join as minimal tables as possible.\n",
    "- When joining tables ensure all join columns are the same data_type.\n",
    "- Analyze the database and the table schema provided as parameters and undestand the relations (column and table relations).\n",
    "- Use always SAFE_CAST. If performing a SAFE_CAST, use only Bigquery supported datatypes.\n",
    "- Always SAFE_CAST and then use aggregate functions\n",
    "- Don't include any comments in code.\n",
    "- Remove ```sql and ``` from the output and generate the SQL in single line.\n",
    "- Tables should be refered to using a fully qualified name with enclosed in ticks (`) e.g. `project_id.owner.table_name`.\n",
    "- Use all the non-aggregated columns from the \"SELECT\" statement while framing \"GROUP BY\" block.\n",
    "- Return syntactically and symantically correct SQL for BigQuery with proper relation mapping i.e project_id, owner, table and column relation.\n",
    "- Use ONLY the column names (column_name) mentioned in Table Schema. DO NOT USE any other column names outside of this.\n",
    "- Associate column_name mentioned in Table Schema only to the table_name specified under Table Schema.\n",
    "- Use SQL 'AS' statement to assign a new name temporarily to a table column or even a table wherever needed.\n",
    "- Table names are case sensitive. DO NOT uppercase or lowercase the table names.\n",
    "- Always enclose subqueries and union queries in brackets.\n",
    "</Guidelines>\n",
    "\n",
    "Your output should be in this format. \n",
    "{format_instructions}\n",
    "\"\"\"\n",
    "\n",
    "HUMAN_PROMPT3: str = \"\"\"\n",
    "<User's question>\n",
    "{rewrite_question}\n",
    "</User's question>\n",
    "\n",
    "<Error Message>\n",
    "{error_message}\n",
    "</Error Message>\n",
    "\n",
    "<Previous Query>\n",
    "{query}\n",
    "</Previous Query>\n",
    "\n",
    "<Examples>\n",
    "{related_query}\n",
    "</Examples>\n",
    "\n",
    "<Table Schema>\n",
    "table : `cbm-cgs-uiim-prd.mro_demo.mrodata`\n",
    "</Table Schema>\n",
    "\n",
    "<Columns Schema>\n",
    "{related_columns}\n",
    "</Columns Schema>\n",
    "\"\"\"\n",
    "\n",
    "PROMPT_TEMPLATE3: list[tuple] = [\n",
    "    ('system', SYSTEM_PROMPT3),\n",
    "    ('human', HUMAN_PROMPT3)\n",
    "]"
   ]
  },
  {
   "cell_type": "code",
   "execution_count": null,
   "id": "c897b4a7",
   "metadata": {},
   "outputs": [],
   "source": [
    "def fix_sql_agent_node(state: AgentState) -> AgentState:\n",
    "    \"\"\"Fix SQL by an agent\"\"\"\n",
    "    print(\"\\033[92m--- Fix SQL ---\\033[00m\")\n",
    "    print(state[\"error_message\"])\n",
    "    chain = init_agent_model(prompt=PROMPT_TEMPLATE3, model_config=MODEL_CONFIG, parser=FixSQLParser)\n",
    "    \n",
    "    response = chain.invoke({\n",
    "        \"rewrite_question\": state[\"rewrite_question\"], # If there is no \"formatted_history\" then use an empty string\n",
    "        \"related_query\": state[\"related_query\"],\n",
    "        \"related_columns\": state[\"related_columns\"],\n",
    "        \"error_message\": state[\"error_message\"],\n",
    "        \"query\": state[\"query\"]\n",
    "    })\n",
    "    \n",
    "    # Set fixed query (fixed sql query) state to be the response from an agent\n",
    "    return {\n",
    "        \"query\": response[\"query\"]\n",
    "    }"
   ]
  },
  {
   "cell_type": "markdown",
   "id": "e574b99f",
   "metadata": {},
   "source": [
    "#### <mark>**8. Response agent node**</mark>\n",
    "\n",
    "This node is an agent that response the query result to the user as a natural language "
   ]
  },
  {
   "cell_type": "code",
   "execution_count": 269,
   "id": "5ba03782",
   "metadata": {},
   "outputs": [],
   "source": [
    "SYSTEM_PROMPT4: str = \"\"\"\n",
    "# [ROLE] \n",
    "You are Data Assistant that helps to answer users' questions on their data within their databases.\n",
    "Provide a natural sounding response to the user question using only the data provided to you.\n",
    "\n",
    "# [PERSONA]\n",
    "**Identity**: CiMie, warm yet professional female AI assistant\n",
    "**Reply language:** Th\n",
    "**Format:** Markdown\n",
    "**Task:** Answer questions based on the provided context.\n",
    "**Tone mix:** Conversational / Professional / Friendly / Supportive\n",
    "\n",
    "# [RULES]\n",
    "- Answer only based on the provided context.\n",
    "- If you give links, format them as Markdown: [filename](url).\n",
    "- Be concise and to the point.\n",
    "- Use bullet points or numbered lists for clarity when needed.\n",
    "- Use markdown formatting for better readability.\n",
    "- Always be polite and respectful.\n",
    "- Do *NOT* tell the user about sql query.\n",
    "\"\"\"\n",
    "\n",
    "HUMAN_PROMPT4: str = \"\"\"\n",
    "The user has provided the following question in natural language: \n",
    "{rewrite_question}\n",
    "\n",
    "<Column Detail>\n",
    "{related_columns}\n",
    "</Column Detail>\n",
    "\n",
    "The system has returned the following result after running the SQL query: \n",
    "{result_df}\n",
    "\"\"\"\n",
    "\n",
    "PROMPT_TEMPLATE4: list[tuple] = [\n",
    "    ('system', SYSTEM_PROMPT4),\n",
    "    ('human', HUMAN_PROMPT4)\n",
    "]"
   ]
  },
  {
   "cell_type": "code",
   "execution_count": null,
   "id": "3c878c5b",
   "metadata": {},
   "outputs": [],
   "source": [
    "def response_agent_node(state: AgentState) -> AgentState:\n",
    "    \"\"\"Response SQL result by an agent in natural language\"\"\"\n",
    "    start_time = state.get(\"text2sql_time\", None)\n",
    "    print(\"\\033[92m--- CiMie Response ---\\033[00m\")\n",
    "    \n",
    "    chain = init_agent_model(prompt=PROMPT_TEMPLATE4, model_config=MODEL_CONFIG, parser=None)\n",
    "    \n",
    "    response = chain.invoke({\n",
    "        \"rewrite_question\": state[\"rewrite_question\"], # If there is no \"formatted_history\" then use an empty string\n",
    "        \"related_columns\": state[\"related_columns\"],\n",
    "        \"result_df\": state[\"result_df\"].to_markdown(index=False),\n",
    "    })\n",
    "    formatted_history= state.get('formatted_history', [])\n",
    "    formatted_history.append(\n",
    "        [\n",
    "            ('rewrite_question', state['rewrite_question']),\n",
    "            ('related_columns', state['related_columns']),\n",
    "            ('result_df', state['result_df'].to_markdown(index=False)),\n",
    "            ('result_response', response)\n",
    "        ]\n",
    "    )\n",
    "    \n",
    "    print(\"\\n\" + response)\n",
    "    \n",
    "    if start_time:\n",
    "        elapsed_time = time.time() - start_time\n",
    "        print(f\"\\n\\033[96m ===========> ⏱️ Text2sql operation time taken: {elapsed_time:.3f} seconds <===========\\n\\033[00m\")\n",
    "    else:\n",
    "        print(\"Start time not found\")\n",
    "        \n",
    "        \n",
    "    return {\n",
    "        \"result_response\" : response,\n",
    "        \"formatted_history\" : formatted_history\n",
    "    }"
   ]
  },
  {
   "cell_type": "markdown",
   "id": "824bb723",
   "metadata": {},
   "source": [
    "#### <mark>**9. Analyze chart type agent node**</mark>\n",
    "\n",
    "This node is an agent that analyzes chart type based on the query result for visualization"
   ]
  },
  {
   "cell_type": "code",
   "execution_count": 271,
   "id": "dcd025ab",
   "metadata": {},
   "outputs": [],
   "source": [
    "class AnalyzeChartType(BaseModel):\n",
    "    chart_suggestions: list[str] = Field(description=\"Chart type suggestions from ai analysis\")"
   ]
  },
  {
   "cell_type": "code",
   "execution_count": 272,
   "id": "43cd01cf",
   "metadata": {},
   "outputs": [],
   "source": [
    "SYSTEM_PROMPT5: str = \"\"\"\n",
    "You are expert in generating visualizations.\n",
    "\n",
    "<Best Practices>\n",
    "Some commonly used charts and when do use them:-\n",
    "- Text or Score card is best for showing single value answer\n",
    "- Table is best for Showing data in a tabular format.\n",
    "- Bullet Chart is best for Showing individual values across categories.\n",
    "- Bar Chart is best for Comparing individual values across categories, especially with many categories or long labels.\n",
    "- Column Chart is best for Comparing individual values across categories, best for smaller datasets.\n",
    "- Line Chart is best for Showing trends over time or continuous data sets with many data points.\n",
    "- Area Chart is best for Emphasizing cumulative totals over time, or the magnitude of change across multiple categories.\n",
    "- Pie Chart is best for Show proportions of a whole, but only for a few categories (ideally less than 6).\n",
    "- Scatter Plot is best for Investigating relationships or correlations between two variables.\n",
    "- Bubble Chart is best for Comparing and showing relationships between three variables.\n",
    "- Histogram is best for Displaying the distribution and frequency of continuous data.\n",
    "- Map Chart is best for Visualizing data with a geographic dimension (countries, states, regions, etc.).\n",
    "- Gantt Chart\tis best for Managing projects, visualizing timelines, and task dependencies.\n",
    "- Heatmap is best for\tShowing the density of data points across two dimensions, highlighting areas of concentration.\n",
    "<Best Practices>\n",
    "\n",
    "<Guidelines>\n",
    "-Do not add any explanation to the response. Only stick to format Chart-1, Chart-2\n",
    "-Do not enclose the response with js or javascript or ```\n",
    "</Guidelines>\n",
    "\n",
    "Your output should be in this format (a valid JSON format with two elements chart_1 and chart_2 as below). \n",
    "{format_instructions}\n",
    "\"\"\"\n",
    "\n",
    "HUMAN_PROMPT5: str = \"\"\"\n",
    "Below is the Question and corresponding SQL Generated, suggest best two of the chart types\n",
    "Question : {rewrite_question}\n",
    "Corresponding SQL : {result_df}\n",
    "\"\"\"\n",
    "\n",
    "PROMPT_TEMPLATE5: list[tuple] = [\n",
    "    ('system', SYSTEM_PROMPT5),\n",
    "    ('human', HUMAN_PROMPT5)\n",
    "]"
   ]
  },
  {
   "cell_type": "code",
   "execution_count": null,
   "id": "5aa14b8b",
   "metadata": {},
   "outputs": [],
   "source": [
    "def analyze_chart_type_agent_node(state: AgentState) -> AgentState:\n",
    "    \"\"\"Analyze chart types from SQL result by an agent\"\"\"\n",
    "    state[\"visualization_time\"] = time.time()\n",
    "    print(\"\\033[92m--- Analyze Chart Types ---\\033[00m\")\n",
    "    \n",
    "    chain = init_agent_model(prompt=PROMPT_TEMPLATE5, model_config=MODEL_CONFIG, parser=AnalyzeChartType)\n",
    "    \n",
    "    response = chain.invoke({\n",
    "        \"rewrite_question\": state[\"rewrite_question\"], # If there is no \"formatted_history\" then use an empty string\n",
    "        \"result_df\": state[\"result_df\"].to_markdown(index=False),\n",
    "    })\n",
    "    \n",
    "    state[\"chart_suggestions\"] = response[\"chart_suggestions\"]\n",
    "    return state"
   ]
  },
  {
   "cell_type": "markdown",
   "id": "b7c2a646",
   "metadata": {},
   "source": [
    "#### <mark>**10. Visualize chart type agent node**</mark>\n",
    "\n",
    "This node is an agent that generates charts based on the result from \"analyze_chart_type_agent_node\" for visualization"
   ]
  },
  {
   "cell_type": "code",
   "execution_count": 274,
   "id": "3a41ac35",
   "metadata": {},
   "outputs": [],
   "source": [
    "class VisualizeChart(BaseModel):\n",
    "    chart_code: str = Field(description=\"Javascript chart code\")"
   ]
  },
  {
   "cell_type": "code",
   "execution_count": 275,
   "id": "17a99b79",
   "metadata": {},
   "outputs": [],
   "source": [
    "SYSTEM_PROMPT6: str = \"\"\"\n",
    "You are expert in generating visualizations.\n",
    "                \n",
    "Guidelines:\n",
    "-Do not add any explanation to the response.\n",
    "-Do not enclose the response with js or javascript or ```\n",
    "\n",
    "You are asked to generate a visualization for the following question:\n",
    "{rewrite_question}\n",
    "\n",
    "The SQL generated for the question is:\n",
    "{query}\n",
    "\n",
    "The results of the sql which should be used to generate the visualization are in json format as follows:\n",
    "{result_df}\n",
    "\n",
    "Needed chart type is  : {chart_suggestions}\n",
    "\n",
    "Guidelines:\n",
    "\n",
    "- Generate js code for {chart_suggestions} for the visualization using google charts and its possible data column. You do not need to use all the columns if not possible.\n",
    "- The generated js code should be able to be just evaluated as javascript so do not add any extra text to it.\n",
    "- ONLY USE the template below and STRICTLY USE ELEMENT ID chart-{chart_div} TO CREATE THE CHART\n",
    "- drawChart fuction name must STRICTLY USE follow this name drawChart{chart_div}\n",
    "\n",
    "google.charts.load('current', <add packages>);\n",
    "google.charts.setOnLoadCallback(drawChart);\n",
    "drawchart function \n",
    "    var data = <Datatable>\n",
    "    with options\n",
    "Title=<<Give appropiate title>>\n",
    "width=600,\n",
    "height=300,\n",
    "hAxis.textStyle.fontSize=5\n",
    "vAxis.textStyle.fontSize=5\n",
    "legend.textStyle.fontSize=10\n",
    "\n",
    "other necessary options for the chart type\n",
    "    var chart = new google.charts.<chart name>(document.getElementById('chart-{chart_div}'));\n",
    "    chart.draw()\n",
    "\n",
    "Your output should be in this format (a valid JSON format with two chart codes as below). \n",
    "{format_instructions}\n",
    "\"\"\"\n",
    "\n",
    "HUMAN_PROMPT6: str = \"\"\"\n",
    "Example Response: \n",
    "\n",
    "google.charts.load('current', {{packages: ['corechart']}});\n",
    "google.charts.setOnLoadCallback(drawChart);\n",
    "    function drawChart() \n",
    "{{var data = google.visualization.arrayToDataTable([['Product SKU', 'Total Ordered Items'],\n",
    "    ['GGOEGOAQ012899', 456],   ['GGOEGDHC074099', 334], \n",
    "    ['GGOEGOCB017499', 319],    ['GGOEGOCC077999', 290], \n",
    "    ['GGOEGFYQ016599', 253],  ]); \n",
    "    \n",
    "var options =\n",
    "    {{ title: 'Top 5 Product SKUs Ordered',  \n",
    "    width: 600,   height: 300,    hAxis: {{     \n",
    "    textStyle: {{       fontSize: 12    }} }},  \n",
    "    vAxis: {{     textStyle: {{      fontSize: 12     }}    }},\n",
    "    legend: {{    textStyle: {{       fontSize: 12      }}   }},  \n",
    "    bar: {{      groupWidth: '50%'    }}  }};\n",
    "    var chart = new google.visualization.BarChart(document.getElementById('chart-{chart_div}')); \n",
    "    chart.draw(data, options);}}\n",
    "\"\"\"\n",
    "\n",
    "PROMPT_TEMPLATE6: list[tuple] = [\n",
    "    (\"system\", SYSTEM_PROMPT6),\n",
    "    (\"human\", HUMAN_PROMPT6)\n",
    "]"
   ]
  },
  {
   "cell_type": "code",
   "execution_count": null,
   "id": "b65a347c",
   "metadata": {},
   "outputs": [],
   "source": [
    "def visualize_chart_agent_node(state: AgentState) -> AgentState:\n",
    "    \"\"\"Analyze chart types from SQL result by an agent\"\"\"\n",
    "    print(f\"\\033[92m--- Visualize Chart {state[\"chart_couter\"] + 1} ---\\033[00m\")\n",
    "    \n",
    "    chain = init_agent_model(prompt=PROMPT_TEMPLATE6, model_config=MODEL_CONFIG, parser=VisualizeChart)\n",
    "    \n",
    "    response = chain.invoke({\n",
    "        \"rewrite_question\": state[\"rewrite_question\"], # If there is no \"formatted_history\" then use an empty string\n",
    "        \"query\": state[\"query\"],\n",
    "        \"result_df\": state[\"result_df\"].to_markdown(index=False),\n",
    "        \"chart_suggestions\": str(state[\"chart_suggestions\"][state[\"chart_couter\"]]),\n",
    "        \"chart_div\": state[\"chart_couter\"] + 1\n",
    "    })\n",
    "    \n",
    "    # update states\n",
    "    state[\"chart_js_codes\"].append(response[\"chart_code\"])\n",
    "    state[\"chart_couter\"] += 1\n",
    "    \n",
    "    return state"
   ]
  },
  {
   "cell_type": "markdown",
   "id": "c9f1d5fa",
   "metadata": {},
   "source": [
    "#### <mark>**11. Error SQL**</mark>\n",
    "\n",
    "This node is an agent that generates error msg. For handling not SELECT query."
   ]
  },
  {
   "cell_type": "code",
   "execution_count": 277,
   "id": "fabcfcbb",
   "metadata": {},
   "outputs": [],
   "source": [
    "SYSTEM_PROMPT7: str = \"\"\"\n",
    "# [ROLE] \n",
    "You are warm yet professional female AI assistant.\n",
    "Provide a natural sounding response to the user question.\n",
    "\n",
    "# [PERSONA]\n",
    "**Identity**: CiMie, warm yet professional female AI assistant\n",
    "**Reply language:** Th\n",
    "**Format:** Markdown\n",
    "**Task:** Tell user that this sql method is not allowed.\n",
    "\"\"\""
   ]
  },
  {
   "cell_type": "code",
   "execution_count": null,
   "id": "f83d9843",
   "metadata": {},
   "outputs": [],
   "source": [
    "def error_response_agent_node(state: AgentState) -> AgentState:\n",
    "    \"\"\"Response Error response by an agent in natural language\"\"\"\n",
    "    print(\"\\033[92m--- Error Response ---\\033[00m\")\n",
    "    \n",
    "    chain = init_agent_model(prompt=SYSTEM_PROMPT7, model_config=MODEL_CONFIG, parser=None)\n",
    "    \n",
    "    response = chain.invoke({\n",
    "        \"input\": 'The system from sql has returned \"not_related_msg\", which means this sql method not allowed. Please answer me that this method not allowed'\n",
    "    })\n",
    "    \n",
    "    print(\"\\n\" + response)\n",
    "    \n",
    "    return {\n",
    "        \"result_response\" : response,\n",
    "    }"
   ]
  },
  {
   "cell_type": "markdown",
   "id": "e7ee442d",
   "metadata": {},
   "source": [
    "### Edges"
   ]
  },
  {
   "cell_type": "code",
   "execution_count": 279,
   "id": "4ddb0cfe",
   "metadata": {},
   "outputs": [],
   "source": [
    "def check_maximum_debug(state: AgentState) -> AgentState:\n",
    "    if state.get(\"error_message\"): \n",
    "        if \"not_related_msg\" in state.get('error_message'):\n",
    "            return \"NOT RELATED\"\n",
    "        if state.get(\"debugging_count\") > MAXIMUM_DEBUG:\n",
    "            raise Exception('MAXIMUM_DEBUG Excess')\n",
    "        return \"ERROR\"\n",
    "    return \"OK\""
   ]
  },
  {
   "cell_type": "code",
   "execution_count": 280,
   "id": "a838a3b8",
   "metadata": {},
   "outputs": [],
   "source": [
    "def check_count_chart(state: AgentState) -> AgentState:\n",
    "    if state[\"chart_couter\"] < 2:\n",
    "        return \"GENARATE MORE CHART\"\n",
    "    return \"FINISH\""
   ]
  },
  {
   "cell_type": "markdown",
   "id": "186b5e0a",
   "metadata": {},
   "source": [
    "### **Graph**"
   ]
  },
  {
   "cell_type": "code",
   "execution_count": 281,
   "id": "1f20c60d",
   "metadata": {},
   "outputs": [],
   "source": [
    "from langgraph.graph import StateGraph, START, END"
   ]
  },
  {
   "cell_type": "markdown",
   "id": "5df2cba2",
   "metadata": {},
   "source": [
    "**Flow 1**: generate analyzer and visualizer before CiMie response"
   ]
  },
  {
   "cell_type": "code",
   "execution_count": null,
   "id": "29e79eeb",
   "metadata": {},
   "outputs": [],
   "source": [
    "# graph = StateGraph(AgentState)\n",
    "\n",
    "# graph.add_node(\"SETUP\", setup)\n",
    "# graph.add_node(\"REWRITE QUESTION\", rewrite_question_agent_node)\n",
    "# graph.add_node(\"SEARCH RELATED QUERY\", search_query_node)\n",
    "# graph.add_node(\"SEARCH DATABASE COLUMN\", search_column_description_node)\n",
    "# graph.add_node(\"WRITE SQL\", write_sql_agent_node)\n",
    "# graph.add_node(\"CHECK SQL\", check_sql_node)\n",
    "# graph.add_node(\"FIX SQL\", fix_sql_agent_node)\n",
    "# graph.add_node(\"RUN SQL\", run_sql_node)\n",
    "# graph.add_node(\"ANALYZE CHART TYPE\", analyze_chart_type_agent_node)\n",
    "# graph.add_node(\"VISUALIZE CHART\", visualize_chart_agent_node)\n",
    "# graph.add_node(\"CIMIE RESPONSE\", response_agent_node)\n",
    "# graph.add_node(\"ERROR RESPONSE\", error_response_agent_node)\n",
    "\n",
    "# graph.add_edge(START, \"SETUP\")\n",
    "# graph.add_edge(\"SETUP\", \"REWRITE QUESTION\")\n",
    "# graph.add_edge(\"REWRITE QUESTION\", \"SEARCH RELATED QUERY\")\n",
    "# graph.add_edge(\"SEARCH RELATED QUERY\", \"SEARCH DATABASE COLUMN\")\n",
    "# graph.add_edge(\"SEARCH DATABASE COLUMN\", \"WRITE SQL\")\n",
    "# graph.add_edge(\"WRITE SQL\", \"CHECK SQL\")\n",
    "\n",
    "# graph.add_conditional_edges(\n",
    "#     \"CHECK SQL\",\n",
    "#     check_maximum_debug,\n",
    "#     {\n",
    "#         \"NOT RELATED\": \"ERROR RESPONSE\",\n",
    "#         \"ERROR\" : \"FIX SQL\",\n",
    "#         \"OK\" : \"RUN SQL\"\n",
    "#     }\n",
    "# )\n",
    "\n",
    "# graph.add_edge(\"FIX SQL\", \"CHECK SQL\")\n",
    "# graph.add_edge(\"RUN SQL\", \"ANALYZE CHART TYPE\")\n",
    "# # graph.add_edge(\"ANALYZE CHART TYPE\", \"CIMIE RESPONSE\")\n",
    "# graph.add_edge(\"ANALYZE CHART TYPE\", \"VISUALIZE CHART\")\n",
    "\n",
    "# graph.add_conditional_edges(\n",
    "#     \"VISUALIZE CHART\",\n",
    "#     check_count_chart,\n",
    "#     {\n",
    "#         \"GENARATE MORE CHART\": \"VISUALIZE CHART\",\n",
    "#         \"FINISH\": \"CIMIE RESPONSE\"\n",
    "#     }\n",
    "# )\n",
    "\n",
    "# graph.add_edge(\"CIMIE RESPONSE\", END)\n",
    "# graph.add_edge(\"ERROR RESPONSE\", END)\n",
    "\n",
    "# app = graph.compile()"
   ]
  },
  {
   "cell_type": "markdown",
   "id": "5c46b36f",
   "metadata": {},
   "source": [
    "**Flow 2**: generate CiMie response before analyzer and visualizer "
   ]
  },
  {
   "cell_type": "code",
   "execution_count": 298,
   "id": "a5363e91",
   "metadata": {},
   "outputs": [],
   "source": [
    "graph = StateGraph(AgentState)\n",
    "\n",
    "graph.add_node(\"SETUP\", setup)\n",
    "graph.add_node(\"REWRITE QUESTION\", rewrite_question_agent_node)\n",
    "graph.add_node(\"SEARCH RELATED QUERY\", search_query_node)\n",
    "graph.add_node(\"SEARCH DATABASE COLUMN\", search_column_description_node)\n",
    "graph.add_node(\"WRITE SQL\", write_sql_agent_node)\n",
    "graph.add_node(\"CHECK SQL\", check_sql_node)\n",
    "graph.add_node(\"FIX SQL\", fix_sql_agent_node)\n",
    "graph.add_node(\"RUN SQL\", run_sql_node)\n",
    "graph.add_node(\"ANALYZE CHART TYPE\", analyze_chart_type_agent_node)\n",
    "graph.add_node(\"VISUALIZE CHART\", visualize_chart_agent_node)\n",
    "graph.add_node(\"CIMIE RESPONSE\", response_agent_node)\n",
    "graph.add_node(\"ERROR RESPONSE\", error_response_agent_node)\n",
    "\n",
    "graph.add_edge(START, \"SETUP\")\n",
    "graph.add_edge(\"SETUP\", \"REWRITE QUESTION\")\n",
    "graph.add_edge(\"REWRITE QUESTION\", \"SEARCH RELATED QUERY\")\n",
    "graph.add_edge(\"SEARCH RELATED QUERY\", \"SEARCH DATABASE COLUMN\")\n",
    "graph.add_edge(\"SEARCH DATABASE COLUMN\", \"WRITE SQL\")\n",
    "graph.add_edge(\"WRITE SQL\", \"CHECK SQL\")\n",
    "\n",
    "graph.add_conditional_edges(\n",
    "    \"CHECK SQL\",\n",
    "    check_maximum_debug,\n",
    "    {\n",
    "        \"NOT RELATED\": \"ERROR RESPONSE\",\n",
    "        \"ERROR\" : \"FIX SQL\",\n",
    "        \"OK\" : \"RUN SQL\"\n",
    "    }\n",
    ")\n",
    "\n",
    "graph.add_edge(\"FIX SQL\", \"CHECK SQL\")\n",
    "graph.add_edge(\"RUN SQL\", \"CIMIE RESPONSE\")\n",
    "graph.add_edge(\"CIMIE RESPONSE\", \"ANALYZE CHART TYPE\")\n",
    "\n",
    "graph.add_edge(\"ANALYZE CHART TYPE\", \"VISUALIZE CHART\")\n",
    "\n",
    "graph.add_conditional_edges(\n",
    "    \"VISUALIZE CHART\",\n",
    "    check_count_chart,\n",
    "    {\n",
    "        \"GENARATE MORE CHART\": \"VISUALIZE CHART\",\n",
    "        \"FINISH\": END\n",
    "    }\n",
    ")\n",
    "\n",
    "graph.add_edge(\"ERROR RESPONSE\", END)\n",
    "\n",
    "app = graph.compile()"
   ]
  },
  {
   "cell_type": "markdown",
   "id": "b366e071",
   "metadata": {},
   "source": [
    "Graph Visualization"
   ]
  },
  {
   "cell_type": "code",
   "execution_count": 284,
   "id": "a767a460",
   "metadata": {},
   "outputs": [],
   "source": [
    "# from IPython.display import Image, display\n",
    "# flow = app.get_graph().draw_mermaid_png()\n",
    "# display(Image(flow))\n",
    "\n",
    "# Save image\n",
    "# with open(\"../flow2.png\", \"wb\") as f:\n",
    "#     f.write(flow)"
   ]
  },
  {
   "cell_type": "markdown",
   "id": "ec18e632",
   "metadata": {},
   "source": [
    "#### **Testing System**"
   ]
  },
  {
   "cell_type": "markdown",
   "id": "cc073168",
   "metadata": {},
   "source": [
    "Positive Case"
   ]
  },
  {
   "cell_type": "code",
   "execution_count": 296,
   "id": "7a575bea",
   "metadata": {},
   "outputs": [
    {
     "name": "stdout",
     "output_type": "stream",
     "text": [
      "\u001b[92m --- Rewrite question ---\u001b[00m\n",
      "\u001b[92m --- Search query ---\u001b[00m\n",
      "\u001b[92m --- Search column description ---\u001b[00m\n",
      "\u001b[92m --- Write SQL ---\u001b[00m\n",
      "SELECT Files FROM `cbm-cgs-uiim-prd.mro_demo.mrodata` ORDER BY SAFE_CAST(PARSE_DATE('%d-%b-%y', Dates) AS DATE) DESC LIMIT 3\n",
      "\u001b[92m --- Check SQL ---\u001b[00m\n",
      "\u001b[92m --- Fix SQL ---\u001b[00m\n",
      "400 Unrecognized name: Dates; Did you mean Datess? at [1:97]; reason: invalidQuery, location: query, message: Unrecognized name: Dates; Did you mean Datess? at [1:97]\n",
      "\n",
      "Location: asia-southeast1\n",
      "Job ID: 00faf13d-9a64-4087-a739-d8984215921d\n",
      "\n",
      "\u001b[92m --- Check SQL ---\u001b[00m\n",
      "\u001b[92m --- Run SQL ---\u001b[00m\n",
      "\u001b[92m --- Analyze Chart Type ---\u001b[00m\n",
      "\u001b[92m --- Visualize Chart 1 ---\u001b[00m\n",
      "\u001b[92m --- Visualize Chart 2 ---\u001b[00m\n",
      "\u001b[92m --- CiMie Response ---\u001b[00m\n",
      "\n",
      "สวัสดีค่ะ! CiMie ได้รวบรวมรายงาน 3 ฉบับล่าสุดมาให้คุณแล้วนะคะ:\n",
      "\n",
      "*   [86449.pdf](https://storage.googleapis.com/cbm-cgs-acb-km-assets/MRO-demo/86449.pdf)\n",
      "*   [86396.pdf](https://storage.googleapis.com/cbm-cgs-acb-km-assets/MRO-demo/86396.pdf)\n",
      "*   [86397.pdf](https://storage.googleapis.com/cbm-cgs-acb-km-assets/MRO-demo/86397.pdf)\n",
      "\n",
      "หวังว่าจะเป็นประโยชน์นะคะ! หากมีคำถามเพิ่มเติม สามารถสอบถามได้เลยค่ะ 😊\n",
      "\n",
      "\u001b[96m ===========> ⏱️ Text2sql operation time taken: 85.252 seconds <===========\n",
      "\u001b[00m\n",
      "\n",
      "Chart Type Suggesstion: ['Table', 'Bullet Chart']\n"
     ]
    }
   ],
   "source": [
    "result = app.invoke({'original_question' : 'Give me last 3 reports'})\n",
    "\n",
    "chart_suggestions = result.get(\"chart_suggestions\")\n",
    "chart_js_codes = result.get(\"chart_js_codes\")\n",
    "\n",
    "charts: dict[str, str] = {}\n",
    "if chart_suggestions and chart_js_codes:\n",
    "    print(f\"\\nChart Type Suggesstion: {chart_suggestions}\")\n",
    "    for idx, chart_code in enumerate(chart_js_codes):\n",
    "        charts[f\"chart-{idx+1}\"] = str(chart_code)"
   ]
  },
  {
   "cell_type": "code",
   "execution_count": 293,
   "id": "661dd7d8",
   "metadata": {},
   "outputs": [
    {
     "name": "stdout",
     "output_type": "stream",
     "text": [
      "\u001b[92m --- Rewrite question ---\u001b[00m\n",
      "\u001b[92m --- Search query ---\u001b[00m\n",
      "\u001b[92m --- Search column description ---\u001b[00m\n",
      "\u001b[92m --- Write SQL ---\u001b[00m\n",
      "SELECT Files FROM `cbm-cgs-uiim-prd.mro_demo.mrodata` ORDER BY SAFE_CAST(PARSE_DATE('%d-%b-%y', Dates) AS DATE) DESC LIMIT 3\n",
      "\u001b[92m --- Check SQL ---\u001b[00m\n",
      "\u001b[92m --- Fix SQL ---\u001b[00m\n",
      "400 Unrecognized name: Dates; Did you mean Datess? at [1:97]; reason: invalidQuery, location: query, message: Unrecognized name: Dates; Did you mean Datess? at [1:97]\n",
      "\n",
      "Location: asia-southeast1\n",
      "Job ID: 6330e49b-9427-4898-ad0f-161f087174a2\n",
      "\n",
      "\u001b[92m --- Check SQL ---\u001b[00m\n",
      "\u001b[92m --- Run SQL ---\u001b[00m\n",
      "\u001b[92m --- CiMie Response ---\u001b[00m\n",
      "\n",
      "สวัสดีค่ะ! CiMie ได้รวบรวมรายงาน 3 ฉบับล่าสุดมาให้คุณแล้วนะคะ:\n",
      "\n",
      "*   [86449.pdf](https://storage.googleapis.com/cbm-cgs-acb-km-assets/MRO-demo/86449.pdf)\n",
      "*   [86396.pdf](https://storage.googleapis.com/cbm-cgs-acb-km-assets/MRO-demo/86396.pdf)\n",
      "*   [86397.pdf](https://storage.googleapis.com/cbm-cgs-acb-km-assets/MRO-demo/86397.pdf)\n",
      "\n",
      "หวังว่าจะเป็นประโยชน์นะคะ! หากมีคำถามเพิ่มเติม สามารถสอบถามได้เลยค่ะ 😊\n",
      "\n",
      "\u001b[96m ===========> ⏱️ Text2sql operation time taken: 15.214 seconds <===========\n",
      "\u001b[00m\n",
      "\u001b[92m --- Analyze Chart Type ---\u001b[00m\n",
      "\u001b[92m --- Visualize Chart 1 ---\u001b[00m\n",
      "\u001b[92m --- Visualize Chart 2 ---\u001b[00m\n",
      "\n",
      "Chart Type Suggesstion: ['Table', 'Bullet Chart']\n",
      "\n",
      "\u001b[96m ===========> ⏱️ Visualization operation time taken: 56.309 seconds <===========\u001b[00m\n"
     ]
    }
   ],
   "source": [
    "result = app.invoke({'original_question' : 'Give me last 3 reports'})\n",
    "\n",
    "chart_suggestions = result.get(\"chart_suggestions\")\n",
    "chart_js_codes = result.get(\"chart_js_codes\")\n",
    "\n",
    "charts: dict[str, str] = {}\n",
    "if chart_suggestions and chart_js_codes:\n",
    "    print(f\"\\nChart Type Suggesstion: {chart_suggestions}\")\n",
    "    for idx, chart_code in enumerate(chart_js_codes):\n",
    "        charts[f\"chart-{idx+1}\"] = str(chart_code)\n",
    "        \n",
    "if result[\"visualization_time\"]:\n",
    "    elapsed_time = time.time() - result[\"visualization_time\"]\n",
    "    print(f\"\\n\\033[96m ===========> ⏱️ Visualization operation time taken: {elapsed_time:.3f} seconds <===========\\033[00m\")"
   ]
  },
  {
   "cell_type": "code",
   "execution_count": 300,
   "id": "2911dec8",
   "metadata": {},
   "outputs": [
    {
     "name": "stdout",
     "output_type": "stream",
     "text": [
      "\u001b[92m --- Rewrite question ---\u001b[00m\n",
      "\u001b[92m --- Search query ---\u001b[00m\n",
      "\u001b[92m --- Search column description ---\u001b[00m\n",
      "\u001b[92m --- Write SQL ---\u001b[00m\n",
      "SELECT SAFE_CAST(t1.MachineCode AS STRING) AS MachineCode, COUNT(SAFE_CAST(t1.MachineCode AS STRING)) AS report_count FROM `cbm-cgs-uiim-prd.mro_demo.mrodata` AS t1 GROUP BY SAFE_CAST(t1.MachineCode AS STRING) ORDER BY report_count DESC LIMIT 5\n",
      "\u001b[92m --- Check SQL ---\u001b[00m\n",
      "\u001b[92m --- Run SQL ---\u001b[00m\n",
      "\u001b[92m --- CiMie Response ---\u001b[00m\n",
      "\n",
      "สวัสดีค่ะ! จากข้อมูลที่ได้รับมา CiMie พบว่ามีเครื่องจักร 5 อันดับแรกที่มีจำนวนรายงานสูงสุด ดังนี้ค่ะ:\n",
      "\n",
      "*   **W2B11**: 1 รายงาน\n",
      "*   **W2A51**: 1 รายงาน\n",
      "*   **W2A53**: 1 รายงาน\n",
      "*   **W2A11**: 1 รายงาน\n",
      "*   **W2C11**: 1 รายงาน\n",
      "\n",
      "หากมีคำถามอื่น ๆ เพิ่มเติม ถาม CiMie ได้เลยนะคะ ยินดีช่วยเหลือค่ะ!\n",
      "\n",
      "\u001b[96m ===========> ⏱️ Text2sql operation time taken: 9.913 seconds <===========\n",
      "\u001b[00m\n",
      "\u001b[92m --- Analyze Chart Type ---\u001b[00m\n",
      "\u001b[92m --- Visualize Chart 1 ---\u001b[00m\n",
      "\u001b[92m --- Visualize Chart 2 ---\u001b[00m\n",
      "\n",
      "Chart Type Suggesstion: ['Column Chart', 'Bar Chart']\n",
      "\n",
      "\u001b[96m ===========> ⏱️ Visualization operation time taken: 12.911 seconds <===========\u001b[00m\n"
     ]
    }
   ],
   "source": [
    "result = app.invoke({'original_question' : 'Which are the top 5 machines with highest number of reports?'})\n",
    "\n",
    "chart_suggestions = result.get(\"chart_suggestions\")\n",
    "chart_js_codes = result.get(\"chart_js_codes\")\n",
    "\n",
    "charts: dict[str, str] = {}\n",
    "if chart_suggestions and chart_js_codes:\n",
    "    print(f\"\\nChart Type Suggesstion: {chart_suggestions}\")\n",
    "    for idx, chart_code in enumerate(chart_js_codes):\n",
    "        charts[f\"chart-{idx+1}\"] = str(chart_code)\n",
    "        \n",
    "if result[\"visualization_time\"]:\n",
    "    elapsed_time = time.time() - result[\"visualization_time\"]\n",
    "    print(f\"\\n\\033[96m ===========> ⏱️ Visualization operation time taken: {elapsed_time:.3f} seconds <===========\\033[00m\")"
   ]
  },
  {
   "cell_type": "markdown",
   "id": "dec18bc8",
   "metadata": {},
   "source": [
    "### **Visualization**"
   ]
  },
  {
   "cell_type": "code",
   "execution_count": 301,
   "id": "941780c5",
   "metadata": {},
   "outputs": [
    {
     "name": "stdout",
     "output_type": "stream",
     "text": [
      "HTML file generated: index.html\n"
     ]
    }
   ],
   "source": [
    "html_content = \"\"\"\n",
    "<!DOCTYPE html>\n",
    "<html>\n",
    "  <head>\n",
    "    <title>Visualization Example</title>\n",
    "    <script type=\"text/javascript\" src=\"https://www.gstatic.com/charts/loader.js\"></script>\n",
    "  </head>\n",
    "  <style>\n",
    "    body {\n",
    "      padding: 0;\n",
    "      margin: 0;\n",
    "      font-family: system-ui, -apple-system, BlinkMacSystemFont, \"Segoe UI\",\n",
    "        Roboto, Oxygen, Ubuntu, Cantarell, \"Open Sans\", \"Helvetica Neue\",\n",
    "        sans-serif;\n",
    "    }\n",
    "    .container {\n",
    "      width: 100%;\n",
    "      height: 100vh;\n",
    "      display: flex;\n",
    "      justify-content: center;\n",
    "      align-items: center;\n",
    "    }\n",
    "    .card {\n",
    "      width: fit-content;\n",
    "      height: fit-content;\n",
    "      text-align: center;\n",
    "      background: #282828;\n",
    "      color: aliceblue;\n",
    "      font-size: 30px;\n",
    "      padding: 2rem;\n",
    "      border-radius: 1rem;\n",
    "    }\n",
    "  </style>\n",
    "  <body>\n",
    "    <div class=\"container\">\n",
    "      <div class=\"card\">\n",
    "        <h2>Google Charts Demo</h2>\n",
    "        <div id=\"chart-1\"></div>\n",
    "        <div id=\"chart-2\"></div>\n",
    "      </div>\n",
    "    </div>\n",
    "  </body>\n",
    "  <script type=\"text/javascript\">\n",
    "\"\"\"\n",
    "for key, code in charts.items():\n",
    "    code_single_line = code.replace(\"\\n\", \" \")\n",
    "    html_content += f\"{code_single_line}\\n\"\n",
    "\n",
    "html_content += \"\"\"\n",
    "  </script>\n",
    "</html>\n",
    "\"\"\"\n",
    "\n",
    "with open(\"../index2.html\", \"w\", encoding=\"utf-8\") as f:\n",
    "    f.write(html_content)\n",
    "\n",
    "print(\"HTML file generated: index.html\")\n"
   ]
  },
  {
   "cell_type": "markdown",
   "id": "fe41fbfc",
   "metadata": {},
   "source": [
    "Negative Case"
   ]
  },
  {
   "cell_type": "code",
   "execution_count": null,
   "id": "8d923990",
   "metadata": {},
   "outputs": [
    {
     "name": "stdout",
     "output_type": "stream",
     "text": [
      "\u001b[92m --- Rewrite question ---\u001b[00m\n",
      "\u001b[92m --- Search query ---\u001b[00m\n",
      "\u001b[92m --- Search column description ---\u001b[00m\n",
      "\u001b[92m --- Write SQL ---\u001b[00m\n",
      "not_related_msg\n",
      "\u001b[92m --- Check SQL ---\u001b[00m\n",
      "\u001b[92m --- Error Response ---\u001b[00m\n",
      "\n",
      "สวัสดีค่ะ CiMie ยินดีให้บริการนะคะ\n",
      "\n",
      "CiMie ต้องขอแจ้งให้ทราบว่า การใช้คำสั่ง SQL โดยตรงนั้นไม่ได้รับอนุญาตในระบบของเราค่ะ เนื่องจากเหตุผลด้านความปลอดภัยของข้อมูลและเพื่อรักษาเสถียรภาพของระบบโดยรวมค่ะ\n",
      "\n",
      "หากคุณมีข้อสงสัยหรือต้องการความช่วยเหลือในการดำเนินการใดๆ ที่เกี่ยวข้องกับข้อมูล รบกวนแจ้งรายละเอียดเพิ่มเติมให้ CiMie ทราบได้เลยนะคะ CiMie ยินดีให้คำแนะนำและช่วยเหลือในช่องทางที่เหมาะสมค่ะ\n",
      "\n",
      "ขอบคุณสำหรับความเข้าใจนะคะ\n"
     ]
    }
   ],
   "source": [
    "result = app.invoke({'original_question' : 'Can you ADD me the new report file of machine (W12C4) 1,000 records?'})\n",
    "# result = app.invoke({'original_question' : \"INSERT INTO employees (id, first_name, last_name, email, hire_date, salary) VALUES (1, 'Alice', 'Johnson', 'alice.johnson@example.com', '2025-01-15', 55000);\"})"
   ]
  }
 ],
 "metadata": {
  "kernelspec": {
   "display_name": "venv",
   "language": "python",
   "name": "python3"
  },
  "language_info": {
   "codemirror_mode": {
    "name": "ipython",
    "version": 3
   },
   "file_extension": ".py",
   "mimetype": "text/x-python",
   "name": "python",
   "nbconvert_exporter": "python",
   "pygments_lexer": "ipython3",
   "version": "3.12.4"
  }
 },
 "nbformat": 4,
 "nbformat_minor": 5
}
